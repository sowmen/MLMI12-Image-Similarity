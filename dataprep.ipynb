{
 "cells": [
  {
   "cell_type": "code",
   "execution_count": 2,
   "metadata": {},
   "outputs": [],
   "source": [
    "import os\n",
    "import glob\n",
    "from tqdm import tqdm_notebook\n",
    "import pandas as pd\n",
    "import numpy as np\n",
    "import random"
   ]
  },
  {
   "cell_type": "code",
   "execution_count": 1,
   "metadata": {},
   "outputs": [
    {
     "name": "stdout",
     "output_type": "stream",
     "text": [
      "200\n"
     ]
    }
   ],
   "source": [
    "labels = os.listdir(\"tiny-imagenet-200/train\")\n",
    "print(len(labels))"
   ]
  },
  {
   "cell_type": "code",
   "execution_count": 7,
   "metadata": {},
   "outputs": [],
   "source": [
    "sorted_labels = sorted(labels)\n",
    "labels_dict = {\"label2id\": {}, \"id2label\": {}}\n",
    "for i, label in enumerate(sorted_labels):\n",
    "    labels_dict[\"label2id\"][label] = i\n",
    "    labels_dict[\"id2label\"][i] = label\n",
    "\n",
    "import json\n",
    "json.dump(labels_dict, open(\"labels_dict.json\", \"w\"))"
   ]
  },
  {
   "cell_type": "code",
   "execution_count": 3,
   "metadata": {},
   "outputs": [],
   "source": [
    "unseen_test_labels = ['n02814533', 'n02236044', 'n04328186', 'n02423022', 'n06596364', 'n02892201', 'n07749582', 'n01944390', 'n04532106', 'n02129165']\n",
    "labels = [y for y in labels if y not in unseen_test_labels]"
   ]
  },
  {
   "cell_type": "code",
   "execution_count": 4,
   "metadata": {},
   "outputs": [],
   "source": [
    "train_data = []\n",
    "for y in labels:\n",
    "    images = os.listdir(os.path.join(\"tiny-imagenet-200\", \"train\", y, \"images\"))\n",
    "    for x in images:\n",
    "        path = os.path.join(\"train\", y, \"images\", x)\n",
    "        train_data.append({\n",
    "            \"image_path\": path,\n",
    "            \"label\": y\n",
    "        })"
   ]
  },
  {
   "cell_type": "code",
   "execution_count": 5,
   "metadata": {},
   "outputs": [
    {
     "data": {
      "text/html": [
       "<div>\n",
       "<style scoped>\n",
       "    .dataframe tbody tr th:only-of-type {\n",
       "        vertical-align: middle;\n",
       "    }\n",
       "\n",
       "    .dataframe tbody tr th {\n",
       "        vertical-align: top;\n",
       "    }\n",
       "\n",
       "    .dataframe thead th {\n",
       "        text-align: right;\n",
       "    }\n",
       "</style>\n",
       "<table border=\"1\" class=\"dataframe\">\n",
       "  <thead>\n",
       "    <tr style=\"text-align: right;\">\n",
       "      <th></th>\n",
       "      <th>image_path</th>\n",
       "      <th>label</th>\n",
       "    </tr>\n",
       "  </thead>\n",
       "  <tbody>\n",
       "    <tr>\n",
       "      <th>0</th>\n",
       "      <td>train\\n01443537\\images\\n01443537_0.JPEG</td>\n",
       "      <td>n01443537</td>\n",
       "    </tr>\n",
       "    <tr>\n",
       "      <th>1</th>\n",
       "      <td>train\\n01443537\\images\\n01443537_1.JPEG</td>\n",
       "      <td>n01443537</td>\n",
       "    </tr>\n",
       "    <tr>\n",
       "      <th>2</th>\n",
       "      <td>train\\n01443537\\images\\n01443537_10.JPEG</td>\n",
       "      <td>n01443537</td>\n",
       "    </tr>\n",
       "    <tr>\n",
       "      <th>3</th>\n",
       "      <td>train\\n01443537\\images\\n01443537_100.JPEG</td>\n",
       "      <td>n01443537</td>\n",
       "    </tr>\n",
       "    <tr>\n",
       "      <th>4</th>\n",
       "      <td>train\\n01443537\\images\\n01443537_101.JPEG</td>\n",
       "      <td>n01443537</td>\n",
       "    </tr>\n",
       "    <tr>\n",
       "      <th>...</th>\n",
       "      <td>...</td>\n",
       "      <td>...</td>\n",
       "    </tr>\n",
       "    <tr>\n",
       "      <th>94995</th>\n",
       "      <td>train\\n12267677\\images\\n12267677_95.JPEG</td>\n",
       "      <td>n12267677</td>\n",
       "    </tr>\n",
       "    <tr>\n",
       "      <th>94996</th>\n",
       "      <td>train\\n12267677\\images\\n12267677_96.JPEG</td>\n",
       "      <td>n12267677</td>\n",
       "    </tr>\n",
       "    <tr>\n",
       "      <th>94997</th>\n",
       "      <td>train\\n12267677\\images\\n12267677_97.JPEG</td>\n",
       "      <td>n12267677</td>\n",
       "    </tr>\n",
       "    <tr>\n",
       "      <th>94998</th>\n",
       "      <td>train\\n12267677\\images\\n12267677_98.JPEG</td>\n",
       "      <td>n12267677</td>\n",
       "    </tr>\n",
       "    <tr>\n",
       "      <th>94999</th>\n",
       "      <td>train\\n12267677\\images\\n12267677_99.JPEG</td>\n",
       "      <td>n12267677</td>\n",
       "    </tr>\n",
       "  </tbody>\n",
       "</table>\n",
       "<p>95000 rows × 2 columns</p>\n",
       "</div>"
      ],
      "text/plain": [
       "                                      image_path      label\n",
       "0        train\\n01443537\\images\\n01443537_0.JPEG  n01443537\n",
       "1        train\\n01443537\\images\\n01443537_1.JPEG  n01443537\n",
       "2       train\\n01443537\\images\\n01443537_10.JPEG  n01443537\n",
       "3      train\\n01443537\\images\\n01443537_100.JPEG  n01443537\n",
       "4      train\\n01443537\\images\\n01443537_101.JPEG  n01443537\n",
       "...                                          ...        ...\n",
       "94995   train\\n12267677\\images\\n12267677_95.JPEG  n12267677\n",
       "94996   train\\n12267677\\images\\n12267677_96.JPEG  n12267677\n",
       "94997   train\\n12267677\\images\\n12267677_97.JPEG  n12267677\n",
       "94998   train\\n12267677\\images\\n12267677_98.JPEG  n12267677\n",
       "94999   train\\n12267677\\images\\n12267677_99.JPEG  n12267677\n",
       "\n",
       "[95000 rows x 2 columns]"
      ]
     },
     "execution_count": 5,
     "metadata": {},
     "output_type": "execute_result"
    }
   ],
   "source": [
    "train_df = pd.DataFrame(train_data)\n",
    "train_df"
   ]
  },
  {
   "cell_type": "code",
   "execution_count": 6,
   "metadata": {},
   "outputs": [
    {
     "data": {
      "text/plain": [
       "n01443537    500\n",
       "n03992509    500\n",
       "n03891332    500\n",
       "n03902125    500\n",
       "n03930313    500\n",
       "            ... \n",
       "n02808440    500\n",
       "n02814860    500\n",
       "n02815834    500\n",
       "n02823428    500\n",
       "n12267677    500\n",
       "Name: label, Length: 190, dtype: int64"
      ]
     },
     "execution_count": 6,
     "metadata": {},
     "output_type": "execute_result"
    }
   ],
   "source": [
    "train_df.label.value_counts()"
   ]
  },
  {
   "cell_type": "code",
   "execution_count": 7,
   "metadata": {},
   "outputs": [],
   "source": [
    "train_df.to_csv('train.csv', index=False)"
   ]
  },
  {
   "attachments": {},
   "cell_type": "markdown",
   "metadata": {},
   "source": [
    "# Val Test Split"
   ]
  },
  {
   "cell_type": "code",
   "execution_count": 20,
   "metadata": {},
   "outputs": [],
   "source": [
    "seen_test_indices = [5, 6, 10, 11, 12, 15, 16, 18, 22, 25, 27, 29, 32, 33, 36, 37, 43, 44, 48, 49]"
   ]
  },
  {
   "cell_type": "code",
   "execution_count": 22,
   "metadata": {},
   "outputs": [],
   "source": [
    "with open(\"tiny-imagenet-200/val/val_annotations.txt\", \"r\") as f:\n",
    "    lines = f.readlines()\n",
    "\n",
    "val_samples = {}\n",
    "for line in lines:\n",
    "    tmp = line.strip().split('\\t')\n",
    "    path = os.path.join(\"val\", \"images\", tmp[0])\n",
    "    label = tmp[1]\n",
    "    if label in unseen_test_labels: continue\n",
    "\n",
    "    if label in val_samples: val_samples[label].append(path)\n",
    "    else: val_samples[label] = [path]"
   ]
  },
  {
   "cell_type": "code",
   "execution_count": 23,
   "metadata": {},
   "outputs": [],
   "source": [
    "val_data = []\n",
    "seen_test_samples = {}\n",
    "\n",
    "for y, x in val_samples.items():\n",
    "    for i, path in enumerate(x):\n",
    "        if i in seen_test_indices:\n",
    "            if y in seen_test_samples: seen_test_samples[y].append(path)\n",
    "            else: seen_test_samples[y] = [path]\n",
    "        else: val_data.append({\n",
    "            \"image_path\": path,\n",
    "            \"label\": y\n",
    "        })"
   ]
  },
  {
   "cell_type": "code",
   "execution_count": 24,
   "metadata": {},
   "outputs": [
    {
     "data": {
      "text/html": [
       "<div>\n",
       "<style scoped>\n",
       "    .dataframe tbody tr th:only-of-type {\n",
       "        vertical-align: middle;\n",
       "    }\n",
       "\n",
       "    .dataframe tbody tr th {\n",
       "        vertical-align: top;\n",
       "    }\n",
       "\n",
       "    .dataframe thead th {\n",
       "        text-align: right;\n",
       "    }\n",
       "</style>\n",
       "<table border=\"1\" class=\"dataframe\">\n",
       "  <thead>\n",
       "    <tr style=\"text-align: right;\">\n",
       "      <th></th>\n",
       "      <th>image_path</th>\n",
       "      <th>label</th>\n",
       "    </tr>\n",
       "  </thead>\n",
       "  <tbody>\n",
       "    <tr>\n",
       "      <th>0</th>\n",
       "      <td>val\\images\\val_0.JPEG</td>\n",
       "      <td>n03444034</td>\n",
       "    </tr>\n",
       "    <tr>\n",
       "      <th>1</th>\n",
       "      <td>val\\images\\val_284.JPEG</td>\n",
       "      <td>n03444034</td>\n",
       "    </tr>\n",
       "    <tr>\n",
       "      <th>2</th>\n",
       "      <td>val\\images\\val_355.JPEG</td>\n",
       "      <td>n03444034</td>\n",
       "    </tr>\n",
       "    <tr>\n",
       "      <th>3</th>\n",
       "      <td>val\\images\\val_505.JPEG</td>\n",
       "      <td>n03444034</td>\n",
       "    </tr>\n",
       "    <tr>\n",
       "      <th>4</th>\n",
       "      <td>val\\images\\val_1007.JPEG</td>\n",
       "      <td>n03444034</td>\n",
       "    </tr>\n",
       "    <tr>\n",
       "      <th>...</th>\n",
       "      <td>...</td>\n",
       "      <td>...</td>\n",
       "    </tr>\n",
       "    <tr>\n",
       "      <th>5695</th>\n",
       "      <td>val\\images\\val_8278.JPEG</td>\n",
       "      <td>n04118538</td>\n",
       "    </tr>\n",
       "    <tr>\n",
       "      <th>5696</th>\n",
       "      <td>val\\images\\val_8424.JPEG</td>\n",
       "      <td>n04118538</td>\n",
       "    </tr>\n",
       "    <tr>\n",
       "      <th>5697</th>\n",
       "      <td>val\\images\\val_9202.JPEG</td>\n",
       "      <td>n04118538</td>\n",
       "    </tr>\n",
       "    <tr>\n",
       "      <th>5698</th>\n",
       "      <td>val\\images\\val_9254.JPEG</td>\n",
       "      <td>n04118538</td>\n",
       "    </tr>\n",
       "    <tr>\n",
       "      <th>5699</th>\n",
       "      <td>val\\images\\val_9338.JPEG</td>\n",
       "      <td>n04118538</td>\n",
       "    </tr>\n",
       "  </tbody>\n",
       "</table>\n",
       "<p>5700 rows × 2 columns</p>\n",
       "</div>"
      ],
      "text/plain": [
       "                    image_path      label\n",
       "0        val\\images\\val_0.JPEG  n03444034\n",
       "1      val\\images\\val_284.JPEG  n03444034\n",
       "2      val\\images\\val_355.JPEG  n03444034\n",
       "3      val\\images\\val_505.JPEG  n03444034\n",
       "4     val\\images\\val_1007.JPEG  n03444034\n",
       "...                        ...        ...\n",
       "5695  val\\images\\val_8278.JPEG  n04118538\n",
       "5696  val\\images\\val_8424.JPEG  n04118538\n",
       "5697  val\\images\\val_9202.JPEG  n04118538\n",
       "5698  val\\images\\val_9254.JPEG  n04118538\n",
       "5699  val\\images\\val_9338.JPEG  n04118538\n",
       "\n",
       "[5700 rows x 2 columns]"
      ]
     },
     "execution_count": 24,
     "metadata": {},
     "output_type": "execute_result"
    }
   ],
   "source": [
    "val_df = pd.DataFrame(val_data)\n",
    "val_df"
   ]
  },
  {
   "cell_type": "code",
   "execution_count": 25,
   "metadata": {},
   "outputs": [
    {
     "data": {
      "text/plain": [
       "n03444034    30\n",
       "n02699494    30\n",
       "n03980874    30\n",
       "n02123394    30\n",
       "n07711569    30\n",
       "             ..\n",
       "n02074367    30\n",
       "n03026506    30\n",
       "n03544143    30\n",
       "n02002724    30\n",
       "n04118538    30\n",
       "Name: label, Length: 190, dtype: int64"
      ]
     },
     "execution_count": 25,
     "metadata": {},
     "output_type": "execute_result"
    }
   ],
   "source": [
    "val_df.label.value_counts()"
   ]
  },
  {
   "cell_type": "code",
   "execution_count": 26,
   "metadata": {},
   "outputs": [],
   "source": [
    "val_df.to_csv('val.csv', index=False)"
   ]
  },
  {
   "attachments": {},
   "cell_type": "markdown",
   "metadata": {},
   "source": [
    "# Create Seen Test"
   ]
  },
  {
   "cell_type": "code",
   "execution_count": 34,
   "metadata": {},
   "outputs": [],
   "source": [
    "seen_seen_test_data = []\n",
    "\n",
    "for y, x in seen_test_samples.items():\n",
    "    random.shuffle(x)\n",
    "    for i in range(10):\n",
    "        seen_seen_test_data.append({\n",
    "            'image1': x[i],\n",
    "            'image2': x[len(x)-i-1],\n",
    "            'label': 1\n",
    "        })\n",
    "    \n",
    "    random.shuffle(x)\n",
    "    for i in range(10):\n",
    "        neg_id = random.sample([elem for i, elem in enumerate(seen_test_samples.keys()) if i != y], 1)[0]\n",
    "        neg_sample = random.sample(seen_test_samples[neg_id], 1)[0]\n",
    "        seen_seen_test_data.append({\n",
    "            'image1': x[i],\n",
    "            'image2': neg_sample,\n",
    "            'label': 0\n",
    "        })"
   ]
  },
  {
   "cell_type": "code",
   "execution_count": 35,
   "metadata": {},
   "outputs": [
    {
     "data": {
      "text/html": [
       "<div>\n",
       "<style scoped>\n",
       "    .dataframe tbody tr th:only-of-type {\n",
       "        vertical-align: middle;\n",
       "    }\n",
       "\n",
       "    .dataframe tbody tr th {\n",
       "        vertical-align: top;\n",
       "    }\n",
       "\n",
       "    .dataframe thead th {\n",
       "        text-align: right;\n",
       "    }\n",
       "</style>\n",
       "<table border=\"1\" class=\"dataframe\">\n",
       "  <thead>\n",
       "    <tr style=\"text-align: right;\">\n",
       "      <th></th>\n",
       "      <th>image1</th>\n",
       "      <th>image2</th>\n",
       "      <th>label</th>\n",
       "    </tr>\n",
       "  </thead>\n",
       "  <tbody>\n",
       "    <tr>\n",
       "      <th>0</th>\n",
       "      <td>val\\images\\val_7470.JPEG</td>\n",
       "      <td>val\\images\\val_9939.JPEG</td>\n",
       "      <td>1</td>\n",
       "    </tr>\n",
       "    <tr>\n",
       "      <th>1</th>\n",
       "      <td>val\\images\\val_9418.JPEG</td>\n",
       "      <td>val\\images\\val_8190.JPEG</td>\n",
       "      <td>1</td>\n",
       "    </tr>\n",
       "    <tr>\n",
       "      <th>2</th>\n",
       "      <td>val\\images\\val_3780.JPEG</td>\n",
       "      <td>val\\images\\val_1262.JPEG</td>\n",
       "      <td>1</td>\n",
       "    </tr>\n",
       "    <tr>\n",
       "      <th>3</th>\n",
       "      <td>val\\images\\val_6988.JPEG</td>\n",
       "      <td>val\\images\\val_9382.JPEG</td>\n",
       "      <td>1</td>\n",
       "    </tr>\n",
       "    <tr>\n",
       "      <th>4</th>\n",
       "      <td>val\\images\\val_2556.JPEG</td>\n",
       "      <td>val\\images\\val_5237.JPEG</td>\n",
       "      <td>1</td>\n",
       "    </tr>\n",
       "    <tr>\n",
       "      <th>...</th>\n",
       "      <td>...</td>\n",
       "      <td>...</td>\n",
       "      <td>...</td>\n",
       "    </tr>\n",
       "    <tr>\n",
       "      <th>3795</th>\n",
       "      <td>val\\images\\val_4841.JPEG</td>\n",
       "      <td>val\\images\\val_5131.JPEG</td>\n",
       "      <td>0</td>\n",
       "    </tr>\n",
       "    <tr>\n",
       "      <th>3796</th>\n",
       "      <td>val\\images\\val_7419.JPEG</td>\n",
       "      <td>val\\images\\val_6651.JPEG</td>\n",
       "      <td>0</td>\n",
       "    </tr>\n",
       "    <tr>\n",
       "      <th>3797</th>\n",
       "      <td>val\\images\\val_9166.JPEG</td>\n",
       "      <td>val\\images\\val_5053.JPEG</td>\n",
       "      <td>0</td>\n",
       "    </tr>\n",
       "    <tr>\n",
       "      <th>3798</th>\n",
       "      <td>val\\images\\val_8965.JPEG</td>\n",
       "      <td>val\\images\\val_6997.JPEG</td>\n",
       "      <td>0</td>\n",
       "    </tr>\n",
       "    <tr>\n",
       "      <th>3799</th>\n",
       "      <td>val\\images\\val_9686.JPEG</td>\n",
       "      <td>val\\images\\val_6429.JPEG</td>\n",
       "      <td>0</td>\n",
       "    </tr>\n",
       "  </tbody>\n",
       "</table>\n",
       "<p>3800 rows × 3 columns</p>\n",
       "</div>"
      ],
      "text/plain": [
       "                        image1                    image2  label\n",
       "0     val\\images\\val_7470.JPEG  val\\images\\val_9939.JPEG      1\n",
       "1     val\\images\\val_9418.JPEG  val\\images\\val_8190.JPEG      1\n",
       "2     val\\images\\val_3780.JPEG  val\\images\\val_1262.JPEG      1\n",
       "3     val\\images\\val_6988.JPEG  val\\images\\val_9382.JPEG      1\n",
       "4     val\\images\\val_2556.JPEG  val\\images\\val_5237.JPEG      1\n",
       "...                        ...                       ...    ...\n",
       "3795  val\\images\\val_4841.JPEG  val\\images\\val_5131.JPEG      0\n",
       "3796  val\\images\\val_7419.JPEG  val\\images\\val_6651.JPEG      0\n",
       "3797  val\\images\\val_9166.JPEG  val\\images\\val_5053.JPEG      0\n",
       "3798  val\\images\\val_8965.JPEG  val\\images\\val_6997.JPEG      0\n",
       "3799  val\\images\\val_9686.JPEG  val\\images\\val_6429.JPEG      0\n",
       "\n",
       "[3800 rows x 3 columns]"
      ]
     },
     "execution_count": 35,
     "metadata": {},
     "output_type": "execute_result"
    }
   ],
   "source": [
    "seen_seen_test_df = pd.DataFrame(seen_seen_test_data)\n",
    "seen_seen_test_df"
   ]
  },
  {
   "cell_type": "code",
   "execution_count": 36,
   "metadata": {},
   "outputs": [],
   "source": [
    "seen_seen_test_df.to_csv('seen_seen_test.csv', index=False)"
   ]
  },
  {
   "attachments": {},
   "cell_type": "markdown",
   "metadata": {},
   "source": [
    "# Create Unseen Test"
   ]
  },
  {
   "cell_type": "code",
   "execution_count": 27,
   "metadata": {},
   "outputs": [],
   "source": [
    "with open(\"tiny-imagenet-200/val/val_annotations.txt\", \"r\") as f:\n",
    "    lines = f.readlines()\n",
    "\n",
    "unseen_test_samples = {}\n",
    "for line in lines:\n",
    "    tmp = line.strip().split('\\t')\n",
    "    path = os.path.join(\"val\", \"images\", tmp[0])\n",
    "    label = tmp[1]\n",
    "    if label in unseen_test_labels:\n",
    "        if label in unseen_test_samples: unseen_test_samples[label].append(path)\n",
    "        else: unseen_test_samples[label] = [path]"
   ]
  },
  {
   "cell_type": "code",
   "execution_count": 37,
   "metadata": {},
   "outputs": [],
   "source": [
    "unseen_unseen_test_data = []\n",
    "\n",
    "for y, x in unseen_test_samples.items():\n",
    "    for i in range(10):\n",
    "        aid = random.randint(0, len(x)-1)\n",
    "        anchor = x[aid]\n",
    "        pos_sample = random.sample([elem for i, elem in enumerate(x) if i != aid], 1)\n",
    "        unseen_unseen_test_data.append({\n",
    "            'image1': anchor,\n",
    "            'image2': pos_sample[0],\n",
    "            'label': 1\n",
    "        })\n",
    "\n",
    "        neg_id = random.sample([elem for i, elem in enumerate(unseen_test_samples.keys()) if i != y], 1)\n",
    "        neg_sample = random.sample(unseen_test_samples[neg_id[0]], 1)\n",
    "        unseen_unseen_test_data.append({\n",
    "            'image1': anchor,\n",
    "            'image2': neg_sample[0],\n",
    "            'label': 0\n",
    "        })"
   ]
  },
  {
   "cell_type": "code",
   "execution_count": 38,
   "metadata": {},
   "outputs": [
    {
     "data": {
      "text/html": [
       "<div>\n",
       "<style scoped>\n",
       "    .dataframe tbody tr th:only-of-type {\n",
       "        vertical-align: middle;\n",
       "    }\n",
       "\n",
       "    .dataframe tbody tr th {\n",
       "        vertical-align: top;\n",
       "    }\n",
       "\n",
       "    .dataframe thead th {\n",
       "        text-align: right;\n",
       "    }\n",
       "</style>\n",
       "<table border=\"1\" class=\"dataframe\">\n",
       "  <thead>\n",
       "    <tr style=\"text-align: right;\">\n",
       "      <th></th>\n",
       "      <th>image1</th>\n",
       "      <th>image2</th>\n",
       "      <th>label</th>\n",
       "    </tr>\n",
       "  </thead>\n",
       "  <tbody>\n",
       "    <tr>\n",
       "      <th>0</th>\n",
       "      <td>val\\images\\val_1603.JPEG</td>\n",
       "      <td>val\\images\\val_898.JPEG</td>\n",
       "      <td>1</td>\n",
       "    </tr>\n",
       "    <tr>\n",
       "      <th>1</th>\n",
       "      <td>val\\images\\val_1603.JPEG</td>\n",
       "      <td>val\\images\\val_1292.JPEG</td>\n",
       "      <td>0</td>\n",
       "    </tr>\n",
       "    <tr>\n",
       "      <th>2</th>\n",
       "      <td>val\\images\\val_235.JPEG</td>\n",
       "      <td>val\\images\\val_84.JPEG</td>\n",
       "      <td>1</td>\n",
       "    </tr>\n",
       "    <tr>\n",
       "      <th>3</th>\n",
       "      <td>val\\images\\val_235.JPEG</td>\n",
       "      <td>val\\images\\val_84.JPEG</td>\n",
       "      <td>0</td>\n",
       "    </tr>\n",
       "    <tr>\n",
       "      <th>4</th>\n",
       "      <td>val\\images\\val_5677.JPEG</td>\n",
       "      <td>val\\images\\val_4645.JPEG</td>\n",
       "      <td>1</td>\n",
       "    </tr>\n",
       "    <tr>\n",
       "      <th>...</th>\n",
       "      <td>...</td>\n",
       "      <td>...</td>\n",
       "      <td>...</td>\n",
       "    </tr>\n",
       "    <tr>\n",
       "      <th>195</th>\n",
       "      <td>val\\images\\val_4380.JPEG</td>\n",
       "      <td>val\\images\\val_567.JPEG</td>\n",
       "      <td>0</td>\n",
       "    </tr>\n",
       "    <tr>\n",
       "      <th>196</th>\n",
       "      <td>val\\images\\val_8956.JPEG</td>\n",
       "      <td>val\\images\\val_5298.JPEG</td>\n",
       "      <td>1</td>\n",
       "    </tr>\n",
       "    <tr>\n",
       "      <th>197</th>\n",
       "      <td>val\\images\\val_8956.JPEG</td>\n",
       "      <td>val\\images\\val_6914.JPEG</td>\n",
       "      <td>0</td>\n",
       "    </tr>\n",
       "    <tr>\n",
       "      <th>198</th>\n",
       "      <td>val\\images\\val_3943.JPEG</td>\n",
       "      <td>val\\images\\val_4307.JPEG</td>\n",
       "      <td>1</td>\n",
       "    </tr>\n",
       "    <tr>\n",
       "      <th>199</th>\n",
       "      <td>val\\images\\val_3943.JPEG</td>\n",
       "      <td>val\\images\\val_7163.JPEG</td>\n",
       "      <td>0</td>\n",
       "    </tr>\n",
       "  </tbody>\n",
       "</table>\n",
       "<p>200 rows × 3 columns</p>\n",
       "</div>"
      ],
      "text/plain": [
       "                       image1                    image2  label\n",
       "0    val\\images\\val_1603.JPEG   val\\images\\val_898.JPEG      1\n",
       "1    val\\images\\val_1603.JPEG  val\\images\\val_1292.JPEG      0\n",
       "2     val\\images\\val_235.JPEG    val\\images\\val_84.JPEG      1\n",
       "3     val\\images\\val_235.JPEG    val\\images\\val_84.JPEG      0\n",
       "4    val\\images\\val_5677.JPEG  val\\images\\val_4645.JPEG      1\n",
       "..                        ...                       ...    ...\n",
       "195  val\\images\\val_4380.JPEG   val\\images\\val_567.JPEG      0\n",
       "196  val\\images\\val_8956.JPEG  val\\images\\val_5298.JPEG      1\n",
       "197  val\\images\\val_8956.JPEG  val\\images\\val_6914.JPEG      0\n",
       "198  val\\images\\val_3943.JPEG  val\\images\\val_4307.JPEG      1\n",
       "199  val\\images\\val_3943.JPEG  val\\images\\val_7163.JPEG      0\n",
       "\n",
       "[200 rows x 3 columns]"
      ]
     },
     "execution_count": 38,
     "metadata": {},
     "output_type": "execute_result"
    }
   ],
   "source": [
    "unseen_unseen_test_df = pd.DataFrame(unseen_unseen_test_data)\n",
    "unseen_unseen_test_df"
   ]
  },
  {
   "cell_type": "code",
   "execution_count": 39,
   "metadata": {},
   "outputs": [],
   "source": [
    "unseen_unseen_test_df.to_csv('unseen_unseen_test.csv', index=False)"
   ]
  },
  {
   "attachments": {},
   "cell_type": "markdown",
   "metadata": {},
   "source": [
    "# Seen Unseen Test"
   ]
  },
  {
   "cell_type": "code",
   "execution_count": 46,
   "metadata": {},
   "outputs": [],
   "source": [
    "val_labels = val_df.label.unique()\n",
    "seen_test_labels = random.sample(list(val_labels), 10)"
   ]
  },
  {
   "cell_type": "code",
   "execution_count": 47,
   "metadata": {},
   "outputs": [],
   "source": [
    "random.shuffle(unseen_test_labels)\n",
    "seen_unseen_test_data = []\n",
    "for seen_label, unseen_label in zip(seen_test_labels, unseen_test_labels):\n",
    "    seen_paths = random.sample(seen_test_samples[seen_label], 20)\n",
    "    unseen_paths = random.sample(unseen_test_samples[unseen_label], 20)\n",
    "    for sp, up in zip(seen_paths, unseen_paths):\n",
    "        seen_unseen_test_data.append({\n",
    "            'image1': sp,\n",
    "            'image2': up,\n",
    "            'label': 0\n",
    "        })"
   ]
  },
  {
   "cell_type": "code",
   "execution_count": 50,
   "metadata": {},
   "outputs": [
    {
     "data": {
      "text/html": [
       "<div>\n",
       "<style scoped>\n",
       "    .dataframe tbody tr th:only-of-type {\n",
       "        vertical-align: middle;\n",
       "    }\n",
       "\n",
       "    .dataframe tbody tr th {\n",
       "        vertical-align: top;\n",
       "    }\n",
       "\n",
       "    .dataframe thead th {\n",
       "        text-align: right;\n",
       "    }\n",
       "</style>\n",
       "<table border=\"1\" class=\"dataframe\">\n",
       "  <thead>\n",
       "    <tr style=\"text-align: right;\">\n",
       "      <th></th>\n",
       "      <th>image1</th>\n",
       "      <th>image2</th>\n",
       "      <th>label</th>\n",
       "    </tr>\n",
       "  </thead>\n",
       "  <tbody>\n",
       "    <tr>\n",
       "      <th>0</th>\n",
       "      <td>val\\images\\val_868.JPEG</td>\n",
       "      <td>val\\images\\val_9106.JPEG</td>\n",
       "      <td>0</td>\n",
       "    </tr>\n",
       "    <tr>\n",
       "      <th>1</th>\n",
       "      <td>val\\images\\val_1661.JPEG</td>\n",
       "      <td>val\\images\\val_9829.JPEG</td>\n",
       "      <td>0</td>\n",
       "    </tr>\n",
       "    <tr>\n",
       "      <th>2</th>\n",
       "      <td>val\\images\\val_5595.JPEG</td>\n",
       "      <td>val\\images\\val_2870.JPEG</td>\n",
       "      <td>0</td>\n",
       "    </tr>\n",
       "    <tr>\n",
       "      <th>3</th>\n",
       "      <td>val\\images\\val_7692.JPEG</td>\n",
       "      <td>val\\images\\val_4493.JPEG</td>\n",
       "      <td>0</td>\n",
       "    </tr>\n",
       "    <tr>\n",
       "      <th>4</th>\n",
       "      <td>val\\images\\val_7336.JPEG</td>\n",
       "      <td>val\\images\\val_6004.JPEG</td>\n",
       "      <td>0</td>\n",
       "    </tr>\n",
       "    <tr>\n",
       "      <th>...</th>\n",
       "      <td>...</td>\n",
       "      <td>...</td>\n",
       "      <td>...</td>\n",
       "    </tr>\n",
       "    <tr>\n",
       "      <th>195</th>\n",
       "      <td>val\\images\\val_1565.JPEG</td>\n",
       "      <td>val\\images\\val_674.JPEG</td>\n",
       "      <td>0</td>\n",
       "    </tr>\n",
       "    <tr>\n",
       "      <th>196</th>\n",
       "      <td>val\\images\\val_8134.JPEG</td>\n",
       "      <td>val\\images\\val_9428.JPEG</td>\n",
       "      <td>0</td>\n",
       "    </tr>\n",
       "    <tr>\n",
       "      <th>197</th>\n",
       "      <td>val\\images\\val_2285.JPEG</td>\n",
       "      <td>val\\images\\val_4909.JPEG</td>\n",
       "      <td>0</td>\n",
       "    </tr>\n",
       "    <tr>\n",
       "      <th>198</th>\n",
       "      <td>val\\images\\val_882.JPEG</td>\n",
       "      <td>val\\images\\val_8924.JPEG</td>\n",
       "      <td>0</td>\n",
       "    </tr>\n",
       "    <tr>\n",
       "      <th>199</th>\n",
       "      <td>val\\images\\val_840.JPEG</td>\n",
       "      <td>val\\images\\val_1663.JPEG</td>\n",
       "      <td>0</td>\n",
       "    </tr>\n",
       "  </tbody>\n",
       "</table>\n",
       "<p>200 rows × 3 columns</p>\n",
       "</div>"
      ],
      "text/plain": [
       "                       image1                    image2  label\n",
       "0     val\\images\\val_868.JPEG  val\\images\\val_9106.JPEG      0\n",
       "1    val\\images\\val_1661.JPEG  val\\images\\val_9829.JPEG      0\n",
       "2    val\\images\\val_5595.JPEG  val\\images\\val_2870.JPEG      0\n",
       "3    val\\images\\val_7692.JPEG  val\\images\\val_4493.JPEG      0\n",
       "4    val\\images\\val_7336.JPEG  val\\images\\val_6004.JPEG      0\n",
       "..                        ...                       ...    ...\n",
       "195  val\\images\\val_1565.JPEG   val\\images\\val_674.JPEG      0\n",
       "196  val\\images\\val_8134.JPEG  val\\images\\val_9428.JPEG      0\n",
       "197  val\\images\\val_2285.JPEG  val\\images\\val_4909.JPEG      0\n",
       "198   val\\images\\val_882.JPEG  val\\images\\val_8924.JPEG      0\n",
       "199   val\\images\\val_840.JPEG  val\\images\\val_1663.JPEG      0\n",
       "\n",
       "[200 rows x 3 columns]"
      ]
     },
     "execution_count": 50,
     "metadata": {},
     "output_type": "execute_result"
    }
   ],
   "source": [
    "seen_unseen_test_df = pd.DataFrame(seen_unseen_test_data)\n",
    "seen_unseen_test_df"
   ]
  },
  {
   "cell_type": "code",
   "execution_count": 51,
   "metadata": {},
   "outputs": [],
   "source": [
    "seen_unseen_test_df.to_csv('seen_unseen_test.csv', index=False)"
   ]
  }
 ],
 "metadata": {
  "kernelspec": {
   "display_name": "DLenv",
   "language": "python",
   "name": "python3"
  },
  "language_info": {
   "codemirror_mode": {
    "name": "ipython",
    "version": 3
   },
   "file_extension": ".py",
   "mimetype": "text/x-python",
   "name": "python",
   "nbconvert_exporter": "python",
   "pygments_lexer": "ipython3",
   "version": "3.8.13"
  },
  "orig_nbformat": 4,
  "vscode": {
   "interpreter": {
    "hash": "6e27fdd685364325128668c401744e268eed4a605f1a6553ece99da66ad5edbc"
   }
  }
 },
 "nbformat": 4,
 "nbformat_minor": 2
}
