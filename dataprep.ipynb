{
 "cells": [
  {
   "cell_type": "code",
   "execution_count": 1,
   "metadata": {},
   "outputs": [],
   "source": [
    "import os\n",
    "import glob\n",
    "from tqdm import tqdm_notebook\n",
    "import pandas as pd\n",
    "import numpy as np\n",
    "import random"
   ]
  },
  {
   "cell_type": "code",
   "execution_count": 2,
   "metadata": {},
   "outputs": [
    {
     "name": "stdout",
     "output_type": "stream",
     "text": [
      "200\n"
     ]
    }
   ],
   "source": [
    "labels = os.listdir(\"tiny-imagenet-200/train\")\n",
    "print(len(labels))"
   ]
  },
  {
   "cell_type": "code",
   "execution_count": 4,
   "metadata": {},
   "outputs": [],
   "source": [
    "unseen_test_labels = ['n02814533', 'n02236044', 'n04328186', 'n02423022', 'n06596364', 'n02892201', 'n07749582', 'n01944390', 'n04532106', 'n02129165']\n",
    "labels = [y for y in labels if y not in unseen_test_labels]\n",
    "labels = random.sample(labels, 100)"
   ]
  },
  {
   "cell_type": "code",
   "execution_count": 7,
   "metadata": {},
   "outputs": [],
   "source": [
    "sorted_labels = sorted(labels)\n",
    "labels_dict = {\"label2id\": {}, \"id2label\": {}}\n",
    "for i, label in enumerate(sorted_labels):\n",
    "    labels_dict[\"label2id\"][label] = i\n",
    "    labels_dict[\"id2label\"][i] = label\n",
    "\n",
    "import json\n",
    "json.dump(labels_dict, open(\"labels_dict.json\", \"w\"))"
   ]
  },
  {
   "cell_type": "code",
   "execution_count": 8,
   "metadata": {},
   "outputs": [],
   "source": [
    "train_data = []\n",
    "for y in labels:\n",
    "    images = os.listdir(os.path.join(\"tiny-imagenet-200\", \"train\", y, \"images\"))\n",
    "    for x in images:\n",
    "        path = f\"train/{y}/images/{x}\"\n",
    "        train_data.append({\n",
    "            \"image_path\": path,\n",
    "            \"label\": y\n",
    "        })"
   ]
  },
  {
   "cell_type": "code",
   "execution_count": 9,
   "metadata": {},
   "outputs": [
    {
     "data": {
      "text/html": [
       "<div>\n",
       "<style scoped>\n",
       "    .dataframe tbody tr th:only-of-type {\n",
       "        vertical-align: middle;\n",
       "    }\n",
       "\n",
       "    .dataframe tbody tr th {\n",
       "        vertical-align: top;\n",
       "    }\n",
       "\n",
       "    .dataframe thead th {\n",
       "        text-align: right;\n",
       "    }\n",
       "</style>\n",
       "<table border=\"1\" class=\"dataframe\">\n",
       "  <thead>\n",
       "    <tr style=\"text-align: right;\">\n",
       "      <th></th>\n",
       "      <th>image_path</th>\n",
       "      <th>label</th>\n",
       "    </tr>\n",
       "  </thead>\n",
       "  <tbody>\n",
       "    <tr>\n",
       "      <th>0</th>\n",
       "      <td>train/n03976657/images/n03976657_0.JPEG</td>\n",
       "      <td>n03976657</td>\n",
       "    </tr>\n",
       "    <tr>\n",
       "      <th>1</th>\n",
       "      <td>train/n03976657/images/n03976657_1.JPEG</td>\n",
       "      <td>n03976657</td>\n",
       "    </tr>\n",
       "    <tr>\n",
       "      <th>2</th>\n",
       "      <td>train/n03976657/images/n03976657_10.JPEG</td>\n",
       "      <td>n03976657</td>\n",
       "    </tr>\n",
       "    <tr>\n",
       "      <th>3</th>\n",
       "      <td>train/n03976657/images/n03976657_100.JPEG</td>\n",
       "      <td>n03976657</td>\n",
       "    </tr>\n",
       "    <tr>\n",
       "      <th>4</th>\n",
       "      <td>train/n03976657/images/n03976657_101.JPEG</td>\n",
       "      <td>n03976657</td>\n",
       "    </tr>\n",
       "    <tr>\n",
       "      <th>...</th>\n",
       "      <td>...</td>\n",
       "      <td>...</td>\n",
       "    </tr>\n",
       "    <tr>\n",
       "      <th>49995</th>\n",
       "      <td>train/n02233338/images/n02233338_95.JPEG</td>\n",
       "      <td>n02233338</td>\n",
       "    </tr>\n",
       "    <tr>\n",
       "      <th>49996</th>\n",
       "      <td>train/n02233338/images/n02233338_96.JPEG</td>\n",
       "      <td>n02233338</td>\n",
       "    </tr>\n",
       "    <tr>\n",
       "      <th>49997</th>\n",
       "      <td>train/n02233338/images/n02233338_97.JPEG</td>\n",
       "      <td>n02233338</td>\n",
       "    </tr>\n",
       "    <tr>\n",
       "      <th>49998</th>\n",
       "      <td>train/n02233338/images/n02233338_98.JPEG</td>\n",
       "      <td>n02233338</td>\n",
       "    </tr>\n",
       "    <tr>\n",
       "      <th>49999</th>\n",
       "      <td>train/n02233338/images/n02233338_99.JPEG</td>\n",
       "      <td>n02233338</td>\n",
       "    </tr>\n",
       "  </tbody>\n",
       "</table>\n",
       "<p>50000 rows × 2 columns</p>\n",
       "</div>"
      ],
      "text/plain": [
       "                                      image_path      label\n",
       "0        train/n03976657/images/n03976657_0.JPEG  n03976657\n",
       "1        train/n03976657/images/n03976657_1.JPEG  n03976657\n",
       "2       train/n03976657/images/n03976657_10.JPEG  n03976657\n",
       "3      train/n03976657/images/n03976657_100.JPEG  n03976657\n",
       "4      train/n03976657/images/n03976657_101.JPEG  n03976657\n",
       "...                                          ...        ...\n",
       "49995   train/n02233338/images/n02233338_95.JPEG  n02233338\n",
       "49996   train/n02233338/images/n02233338_96.JPEG  n02233338\n",
       "49997   train/n02233338/images/n02233338_97.JPEG  n02233338\n",
       "49998   train/n02233338/images/n02233338_98.JPEG  n02233338\n",
       "49999   train/n02233338/images/n02233338_99.JPEG  n02233338\n",
       "\n",
       "[50000 rows x 2 columns]"
      ]
     },
     "execution_count": 9,
     "metadata": {},
     "output_type": "execute_result"
    }
   ],
   "source": [
    "train_df = pd.DataFrame(train_data)\n",
    "train_df"
   ]
  },
  {
   "cell_type": "code",
   "execution_count": 10,
   "metadata": {},
   "outputs": [
    {
     "data": {
      "text/plain": [
       "n03976657    500\n",
       "n02814860    500\n",
       "n02437312    500\n",
       "n04146614    500\n",
       "n07875152    500\n",
       "            ... \n",
       "n04023962    500\n",
       "n03670208    500\n",
       "n03814639    500\n",
       "n03388043    500\n",
       "n02233338    500\n",
       "Name: label, Length: 100, dtype: int64"
      ]
     },
     "execution_count": 10,
     "metadata": {},
     "output_type": "execute_result"
    }
   ],
   "source": [
    "train_df.label.value_counts()"
   ]
  },
  {
   "cell_type": "code",
   "execution_count": 11,
   "metadata": {},
   "outputs": [],
   "source": [
    "train_df.to_csv('train.csv', index=False)"
   ]
  },
  {
   "attachments": {},
   "cell_type": "markdown",
   "metadata": {},
   "source": [
    "# Val Test Split"
   ]
  },
  {
   "cell_type": "code",
   "execution_count": 12,
   "metadata": {},
   "outputs": [],
   "source": [
    "seen_test_indices = [5, 6, 10, 11, 12, 15, 16, 18, 22, 25, 27, 29, 32, 33, 36, 37, 43, 44, 48, 49]"
   ]
  },
  {
   "cell_type": "code",
   "execution_count": 19,
   "metadata": {},
   "outputs": [],
   "source": [
    "with open(\"tiny-imagenet-200/val/val_annotations.txt\", \"r\") as f:\n",
    "    lines = f.readlines()\n",
    "\n",
    "val_samples = {}\n",
    "for line in lines:\n",
    "    tmp = line.strip().split('\\t')\n",
    "    path = f\"val/images/{tmp[0]}\"\n",
    "    label = tmp[1]\n",
    "    if label in unseen_test_labels: continue\n",
    "    if label not in labels: continue\n",
    "\n",
    "    if label in val_samples: val_samples[label].append(path)\n",
    "    else: val_samples[label] = [path]"
   ]
  },
  {
   "cell_type": "code",
   "execution_count": 20,
   "metadata": {},
   "outputs": [],
   "source": [
    "val_data = []\n",
    "seen_test_samples = {}\n",
    "\n",
    "for y, x in val_samples.items():\n",
    "    for i, path in enumerate(x):\n",
    "        if i in seen_test_indices:\n",
    "            if y in seen_test_samples: seen_test_samples[y].append(path)\n",
    "            else: seen_test_samples[y] = [path]\n",
    "        else: val_data.append({\n",
    "            \"image_path\": path,\n",
    "            \"label\": y\n",
    "        })"
   ]
  },
  {
   "cell_type": "code",
   "execution_count": 21,
   "metadata": {},
   "outputs": [
    {
     "data": {
      "text/html": [
       "<div>\n",
       "<style scoped>\n",
       "    .dataframe tbody tr th:only-of-type {\n",
       "        vertical-align: middle;\n",
       "    }\n",
       "\n",
       "    .dataframe tbody tr th {\n",
       "        vertical-align: top;\n",
       "    }\n",
       "\n",
       "    .dataframe thead th {\n",
       "        text-align: right;\n",
       "    }\n",
       "</style>\n",
       "<table border=\"1\" class=\"dataframe\">\n",
       "  <thead>\n",
       "    <tr style=\"text-align: right;\">\n",
       "      <th></th>\n",
       "      <th>image_path</th>\n",
       "      <th>label</th>\n",
       "    </tr>\n",
       "  </thead>\n",
       "  <tbody>\n",
       "    <tr>\n",
       "      <th>0</th>\n",
       "      <td>val/images/val_0.JPEG</td>\n",
       "      <td>n03444034</td>\n",
       "    </tr>\n",
       "    <tr>\n",
       "      <th>1</th>\n",
       "      <td>val/images/val_284.JPEG</td>\n",
       "      <td>n03444034</td>\n",
       "    </tr>\n",
       "    <tr>\n",
       "      <th>2</th>\n",
       "      <td>val/images/val_355.JPEG</td>\n",
       "      <td>n03444034</td>\n",
       "    </tr>\n",
       "    <tr>\n",
       "      <th>3</th>\n",
       "      <td>val/images/val_505.JPEG</td>\n",
       "      <td>n03444034</td>\n",
       "    </tr>\n",
       "    <tr>\n",
       "      <th>4</th>\n",
       "      <td>val/images/val_1007.JPEG</td>\n",
       "      <td>n03444034</td>\n",
       "    </tr>\n",
       "    <tr>\n",
       "      <th>...</th>\n",
       "      <td>...</td>\n",
       "      <td>...</td>\n",
       "    </tr>\n",
       "    <tr>\n",
       "      <th>2995</th>\n",
       "      <td>val/images/val_8204.JPEG</td>\n",
       "      <td>n07875152</td>\n",
       "    </tr>\n",
       "    <tr>\n",
       "      <th>2996</th>\n",
       "      <td>val/images/val_8334.JPEG</td>\n",
       "      <td>n07875152</td>\n",
       "    </tr>\n",
       "    <tr>\n",
       "      <th>2997</th>\n",
       "      <td>val/images/val_8543.JPEG</td>\n",
       "      <td>n07875152</td>\n",
       "    </tr>\n",
       "    <tr>\n",
       "      <th>2998</th>\n",
       "      <td>val/images/val_8608.JPEG</td>\n",
       "      <td>n07875152</td>\n",
       "    </tr>\n",
       "    <tr>\n",
       "      <th>2999</th>\n",
       "      <td>val/images/val_9045.JPEG</td>\n",
       "      <td>n07875152</td>\n",
       "    </tr>\n",
       "  </tbody>\n",
       "</table>\n",
       "<p>3000 rows × 2 columns</p>\n",
       "</div>"
      ],
      "text/plain": [
       "                    image_path      label\n",
       "0        val/images/val_0.JPEG  n03444034\n",
       "1      val/images/val_284.JPEG  n03444034\n",
       "2      val/images/val_355.JPEG  n03444034\n",
       "3      val/images/val_505.JPEG  n03444034\n",
       "4     val/images/val_1007.JPEG  n03444034\n",
       "...                        ...        ...\n",
       "2995  val/images/val_8204.JPEG  n07875152\n",
       "2996  val/images/val_8334.JPEG  n07875152\n",
       "2997  val/images/val_8543.JPEG  n07875152\n",
       "2998  val/images/val_8608.JPEG  n07875152\n",
       "2999  val/images/val_9045.JPEG  n07875152\n",
       "\n",
       "[3000 rows x 2 columns]"
      ]
     },
     "execution_count": 21,
     "metadata": {},
     "output_type": "execute_result"
    }
   ],
   "source": [
    "val_df = pd.DataFrame(val_data)\n",
    "val_df"
   ]
  },
  {
   "cell_type": "code",
   "execution_count": 22,
   "metadata": {},
   "outputs": [
    {
     "data": {
      "text/plain": [
       "n03444034    30\n",
       "n02814860    30\n",
       "n03447447    30\n",
       "n01882714    30\n",
       "n03100240    30\n",
       "             ..\n",
       "n01945685    30\n",
       "n01698640    30\n",
       "n03970156    30\n",
       "n01443537    30\n",
       "n07875152    30\n",
       "Name: label, Length: 100, dtype: int64"
      ]
     },
     "execution_count": 22,
     "metadata": {},
     "output_type": "execute_result"
    }
   ],
   "source": [
    "val_df.label.value_counts()"
   ]
  },
  {
   "cell_type": "code",
   "execution_count": 23,
   "metadata": {},
   "outputs": [],
   "source": [
    "val_df.to_csv('val.csv', index=False)"
   ]
  },
  {
   "attachments": {},
   "cell_type": "markdown",
   "metadata": {},
   "source": [
    "# Create Seen Test"
   ]
  },
  {
   "cell_type": "code",
   "execution_count": 24,
   "metadata": {},
   "outputs": [],
   "source": [
    "seen_seen_test_data = []\n",
    "\n",
    "for y, x in seen_test_samples.items():\n",
    "    random.shuffle(x)\n",
    "    for i in range(10):\n",
    "        seen_seen_test_data.append({\n",
    "            'image1': x[i],\n",
    "            'image2': x[len(x)-i-1],\n",
    "            'label': 1\n",
    "        })\n",
    "    \n",
    "    random.shuffle(x)\n",
    "    for i in range(10):\n",
    "        neg_id = random.sample([elem for i, elem in enumerate(seen_test_samples.keys()) if i != y], 1)[0]\n",
    "        neg_sample = random.sample(seen_test_samples[neg_id], 1)[0]\n",
    "        seen_seen_test_data.append({\n",
    "            'image1': x[i],\n",
    "            'image2': neg_sample,\n",
    "            'label': 0\n",
    "        })"
   ]
  },
  {
   "cell_type": "code",
   "execution_count": 25,
   "metadata": {},
   "outputs": [
    {
     "data": {
      "text/html": [
       "<div>\n",
       "<style scoped>\n",
       "    .dataframe tbody tr th:only-of-type {\n",
       "        vertical-align: middle;\n",
       "    }\n",
       "\n",
       "    .dataframe tbody tr th {\n",
       "        vertical-align: top;\n",
       "    }\n",
       "\n",
       "    .dataframe thead th {\n",
       "        text-align: right;\n",
       "    }\n",
       "</style>\n",
       "<table border=\"1\" class=\"dataframe\">\n",
       "  <thead>\n",
       "    <tr style=\"text-align: right;\">\n",
       "      <th></th>\n",
       "      <th>image1</th>\n",
       "      <th>image2</th>\n",
       "      <th>label</th>\n",
       "    </tr>\n",
       "  </thead>\n",
       "  <tbody>\n",
       "    <tr>\n",
       "      <th>0</th>\n",
       "      <td>val/images/val_9939.JPEG</td>\n",
       "      <td>val/images/val_9382.JPEG</td>\n",
       "      <td>1</td>\n",
       "    </tr>\n",
       "    <tr>\n",
       "      <th>1</th>\n",
       "      <td>val/images/val_9418.JPEG</td>\n",
       "      <td>val/images/val_5453.JPEG</td>\n",
       "      <td>1</td>\n",
       "    </tr>\n",
       "    <tr>\n",
       "      <th>2</th>\n",
       "      <td>val/images/val_1008.JPEG</td>\n",
       "      <td>val/images/val_2507.JPEG</td>\n",
       "      <td>1</td>\n",
       "    </tr>\n",
       "    <tr>\n",
       "      <th>3</th>\n",
       "      <td>val/images/val_2556.JPEG</td>\n",
       "      <td>val/images/val_2134.JPEG</td>\n",
       "      <td>1</td>\n",
       "    </tr>\n",
       "    <tr>\n",
       "      <th>4</th>\n",
       "      <td>val/images/val_4839.JPEG</td>\n",
       "      <td>val/images/val_3433.JPEG</td>\n",
       "      <td>1</td>\n",
       "    </tr>\n",
       "    <tr>\n",
       "      <th>...</th>\n",
       "      <td>...</td>\n",
       "      <td>...</td>\n",
       "      <td>...</td>\n",
       "    </tr>\n",
       "    <tr>\n",
       "      <th>1995</th>\n",
       "      <td>val/images/val_5889.JPEG</td>\n",
       "      <td>val/images/val_8247.JPEG</td>\n",
       "      <td>0</td>\n",
       "    </tr>\n",
       "    <tr>\n",
       "      <th>1996</th>\n",
       "      <td>val/images/val_2768.JPEG</td>\n",
       "      <td>val/images/val_7634.JPEG</td>\n",
       "      <td>0</td>\n",
       "    </tr>\n",
       "    <tr>\n",
       "      <th>1997</th>\n",
       "      <td>val/images/val_1402.JPEG</td>\n",
       "      <td>val/images/val_3451.JPEG</td>\n",
       "      <td>0</td>\n",
       "    </tr>\n",
       "    <tr>\n",
       "      <th>1998</th>\n",
       "      <td>val/images/val_5020.JPEG</td>\n",
       "      <td>val/images/val_2396.JPEG</td>\n",
       "      <td>0</td>\n",
       "    </tr>\n",
       "    <tr>\n",
       "      <th>1999</th>\n",
       "      <td>val/images/val_8436.JPEG</td>\n",
       "      <td>val/images/val_661.JPEG</td>\n",
       "      <td>0</td>\n",
       "    </tr>\n",
       "  </tbody>\n",
       "</table>\n",
       "<p>2000 rows × 3 columns</p>\n",
       "</div>"
      ],
      "text/plain": [
       "                        image1                    image2  label\n",
       "0     val/images/val_9939.JPEG  val/images/val_9382.JPEG      1\n",
       "1     val/images/val_9418.JPEG  val/images/val_5453.JPEG      1\n",
       "2     val/images/val_1008.JPEG  val/images/val_2507.JPEG      1\n",
       "3     val/images/val_2556.JPEG  val/images/val_2134.JPEG      1\n",
       "4     val/images/val_4839.JPEG  val/images/val_3433.JPEG      1\n",
       "...                        ...                       ...    ...\n",
       "1995  val/images/val_5889.JPEG  val/images/val_8247.JPEG      0\n",
       "1996  val/images/val_2768.JPEG  val/images/val_7634.JPEG      0\n",
       "1997  val/images/val_1402.JPEG  val/images/val_3451.JPEG      0\n",
       "1998  val/images/val_5020.JPEG  val/images/val_2396.JPEG      0\n",
       "1999  val/images/val_8436.JPEG   val/images/val_661.JPEG      0\n",
       "\n",
       "[2000 rows x 3 columns]"
      ]
     },
     "execution_count": 25,
     "metadata": {},
     "output_type": "execute_result"
    }
   ],
   "source": [
    "seen_seen_test_df = pd.DataFrame(seen_seen_test_data)\n",
    "seen_seen_test_df"
   ]
  },
  {
   "cell_type": "code",
   "execution_count": 26,
   "metadata": {},
   "outputs": [],
   "source": [
    "seen_seen_test_df.to_csv('seen_seen_test.csv', index=False)"
   ]
  },
  {
   "attachments": {},
   "cell_type": "markdown",
   "metadata": {},
   "source": [
    "# Create Unseen Test"
   ]
  },
  {
   "cell_type": "code",
   "execution_count": 27,
   "metadata": {},
   "outputs": [],
   "source": [
    "with open(\"tiny-imagenet-200/val/val_annotations.txt\", \"r\") as f:\n",
    "    lines = f.readlines()\n",
    "\n",
    "unseen_test_samples = {}\n",
    "for line in lines:\n",
    "    tmp = line.strip().split('\\t')\n",
    "    path = os.path.join(\"val\", \"images\", tmp[0]).replace('\\\\', '/')\n",
    "    label = tmp[1]\n",
    "    if label in unseen_test_labels:\n",
    "        if label in unseen_test_samples: unseen_test_samples[label].append(path)\n",
    "        else: unseen_test_samples[label] = [path]"
   ]
  },
  {
   "cell_type": "code",
   "execution_count": 28,
   "metadata": {},
   "outputs": [],
   "source": [
    "unseen_unseen_test_data = []\n",
    "\n",
    "for y, x in unseen_test_samples.items():\n",
    "    for i in range(10):\n",
    "        aid = random.randint(0, len(x)-1)\n",
    "        anchor = x[aid]\n",
    "        pos_sample = random.sample([elem for i, elem in enumerate(x) if i != aid], 1)\n",
    "        unseen_unseen_test_data.append({\n",
    "            'image1': anchor,\n",
    "            'image2': pos_sample[0],\n",
    "            'label': 1\n",
    "        })\n",
    "\n",
    "        neg_id = random.sample([elem for i, elem in enumerate(unseen_test_samples.keys()) if i != y], 1)\n",
    "        neg_sample = random.sample(unseen_test_samples[neg_id[0]], 1)\n",
    "        unseen_unseen_test_data.append({\n",
    "            'image1': anchor,\n",
    "            'image2': neg_sample[0],\n",
    "            'label': 0\n",
    "        })"
   ]
  },
  {
   "cell_type": "code",
   "execution_count": 29,
   "metadata": {},
   "outputs": [
    {
     "data": {
      "text/html": [
       "<div>\n",
       "<style scoped>\n",
       "    .dataframe tbody tr th:only-of-type {\n",
       "        vertical-align: middle;\n",
       "    }\n",
       "\n",
       "    .dataframe tbody tr th {\n",
       "        vertical-align: top;\n",
       "    }\n",
       "\n",
       "    .dataframe thead th {\n",
       "        text-align: right;\n",
       "    }\n",
       "</style>\n",
       "<table border=\"1\" class=\"dataframe\">\n",
       "  <thead>\n",
       "    <tr style=\"text-align: right;\">\n",
       "      <th></th>\n",
       "      <th>image1</th>\n",
       "      <th>image2</th>\n",
       "      <th>label</th>\n",
       "    </tr>\n",
       "  </thead>\n",
       "  <tbody>\n",
       "    <tr>\n",
       "      <th>0</th>\n",
       "      <td>val/images/val_217.JPEG</td>\n",
       "      <td>val/images/val_2313.JPEG</td>\n",
       "      <td>1</td>\n",
       "    </tr>\n",
       "    <tr>\n",
       "      <th>1</th>\n",
       "      <td>val/images/val_217.JPEG</td>\n",
       "      <td>val/images/val_7330.JPEG</td>\n",
       "      <td>0</td>\n",
       "    </tr>\n",
       "    <tr>\n",
       "      <th>2</th>\n",
       "      <td>val/images/val_3753.JPEG</td>\n",
       "      <td>val/images/val_898.JPEG</td>\n",
       "      <td>1</td>\n",
       "    </tr>\n",
       "    <tr>\n",
       "      <th>3</th>\n",
       "      <td>val/images/val_3753.JPEG</td>\n",
       "      <td>val/images/val_847.JPEG</td>\n",
       "      <td>0</td>\n",
       "    </tr>\n",
       "    <tr>\n",
       "      <th>4</th>\n",
       "      <td>val/images/val_8693.JPEG</td>\n",
       "      <td>val/images/val_1224.JPEG</td>\n",
       "      <td>1</td>\n",
       "    </tr>\n",
       "    <tr>\n",
       "      <th>...</th>\n",
       "      <td>...</td>\n",
       "      <td>...</td>\n",
       "      <td>...</td>\n",
       "    </tr>\n",
       "    <tr>\n",
       "      <th>195</th>\n",
       "      <td>val/images/val_5813.JPEG</td>\n",
       "      <td>val/images/val_235.JPEG</td>\n",
       "      <td>0</td>\n",
       "    </tr>\n",
       "    <tr>\n",
       "      <th>196</th>\n",
       "      <td>val/images/val_5163.JPEG</td>\n",
       "      <td>val/images/val_8155.JPEG</td>\n",
       "      <td>1</td>\n",
       "    </tr>\n",
       "    <tr>\n",
       "      <th>197</th>\n",
       "      <td>val/images/val_5163.JPEG</td>\n",
       "      <td>val/images/val_2024.JPEG</td>\n",
       "      <td>0</td>\n",
       "    </tr>\n",
       "    <tr>\n",
       "      <th>198</th>\n",
       "      <td>val/images/val_1666.JPEG</td>\n",
       "      <td>val/images/val_2541.JPEG</td>\n",
       "      <td>1</td>\n",
       "    </tr>\n",
       "    <tr>\n",
       "      <th>199</th>\n",
       "      <td>val/images/val_1666.JPEG</td>\n",
       "      <td>val/images/val_6178.JPEG</td>\n",
       "      <td>0</td>\n",
       "    </tr>\n",
       "  </tbody>\n",
       "</table>\n",
       "<p>200 rows × 3 columns</p>\n",
       "</div>"
      ],
      "text/plain": [
       "                       image1                    image2  label\n",
       "0     val/images/val_217.JPEG  val/images/val_2313.JPEG      1\n",
       "1     val/images/val_217.JPEG  val/images/val_7330.JPEG      0\n",
       "2    val/images/val_3753.JPEG   val/images/val_898.JPEG      1\n",
       "3    val/images/val_3753.JPEG   val/images/val_847.JPEG      0\n",
       "4    val/images/val_8693.JPEG  val/images/val_1224.JPEG      1\n",
       "..                        ...                       ...    ...\n",
       "195  val/images/val_5813.JPEG   val/images/val_235.JPEG      0\n",
       "196  val/images/val_5163.JPEG  val/images/val_8155.JPEG      1\n",
       "197  val/images/val_5163.JPEG  val/images/val_2024.JPEG      0\n",
       "198  val/images/val_1666.JPEG  val/images/val_2541.JPEG      1\n",
       "199  val/images/val_1666.JPEG  val/images/val_6178.JPEG      0\n",
       "\n",
       "[200 rows x 3 columns]"
      ]
     },
     "execution_count": 29,
     "metadata": {},
     "output_type": "execute_result"
    }
   ],
   "source": [
    "unseen_unseen_test_df = pd.DataFrame(unseen_unseen_test_data)\n",
    "unseen_unseen_test_df"
   ]
  },
  {
   "cell_type": "code",
   "execution_count": 30,
   "metadata": {},
   "outputs": [],
   "source": [
    "unseen_unseen_test_df.to_csv('unseen_unseen_test.csv', index=False)"
   ]
  },
  {
   "attachments": {},
   "cell_type": "markdown",
   "metadata": {},
   "source": [
    "# Seen Unseen Test"
   ]
  },
  {
   "cell_type": "code",
   "execution_count": 31,
   "metadata": {},
   "outputs": [],
   "source": [
    "val_labels = val_df.label.unique()\n",
    "seen_test_labels = random.sample(list(val_labels), 10)"
   ]
  },
  {
   "cell_type": "code",
   "execution_count": 32,
   "metadata": {},
   "outputs": [],
   "source": [
    "random.shuffle(unseen_test_labels)\n",
    "seen_unseen_test_data = []\n",
    "for seen_label, unseen_label in zip(seen_test_labels, unseen_test_labels):\n",
    "    seen_paths = random.sample(seen_test_samples[seen_label], 20)\n",
    "    unseen_paths = random.sample(unseen_test_samples[unseen_label], 20)\n",
    "    for sp, up in zip(seen_paths, unseen_paths):\n",
    "        seen_unseen_test_data.append({\n",
    "            'image1': sp,\n",
    "            'image2': up,\n",
    "            'label': 0\n",
    "        })"
   ]
  },
  {
   "cell_type": "code",
   "execution_count": 33,
   "metadata": {},
   "outputs": [
    {
     "data": {
      "text/html": [
       "<div>\n",
       "<style scoped>\n",
       "    .dataframe tbody tr th:only-of-type {\n",
       "        vertical-align: middle;\n",
       "    }\n",
       "\n",
       "    .dataframe tbody tr th {\n",
       "        vertical-align: top;\n",
       "    }\n",
       "\n",
       "    .dataframe thead th {\n",
       "        text-align: right;\n",
       "    }\n",
       "</style>\n",
       "<table border=\"1\" class=\"dataframe\">\n",
       "  <thead>\n",
       "    <tr style=\"text-align: right;\">\n",
       "      <th></th>\n",
       "      <th>image1</th>\n",
       "      <th>image2</th>\n",
       "      <th>label</th>\n",
       "    </tr>\n",
       "  </thead>\n",
       "  <tbody>\n",
       "    <tr>\n",
       "      <th>0</th>\n",
       "      <td>val/images/val_8250.JPEG</td>\n",
       "      <td>val/images/val_2423.JPEG</td>\n",
       "      <td>0</td>\n",
       "    </tr>\n",
       "    <tr>\n",
       "      <th>1</th>\n",
       "      <td>val/images/val_7970.JPEG</td>\n",
       "      <td>val/images/val_545.JPEG</td>\n",
       "      <td>0</td>\n",
       "    </tr>\n",
       "    <tr>\n",
       "      <th>2</th>\n",
       "      <td>val/images/val_6757.JPEG</td>\n",
       "      <td>val/images/val_1603.JPEG</td>\n",
       "      <td>0</td>\n",
       "    </tr>\n",
       "    <tr>\n",
       "      <th>3</th>\n",
       "      <td>val/images/val_2307.JPEG</td>\n",
       "      <td>val/images/val_6178.JPEG</td>\n",
       "      <td>0</td>\n",
       "    </tr>\n",
       "    <tr>\n",
       "      <th>4</th>\n",
       "      <td>val/images/val_8743.JPEG</td>\n",
       "      <td>val/images/val_4533.JPEG</td>\n",
       "      <td>0</td>\n",
       "    </tr>\n",
       "    <tr>\n",
       "      <th>...</th>\n",
       "      <td>...</td>\n",
       "      <td>...</td>\n",
       "      <td>...</td>\n",
       "    </tr>\n",
       "    <tr>\n",
       "      <th>195</th>\n",
       "      <td>val/images/val_1613.JPEG</td>\n",
       "      <td>val/images/val_6167.JPEG</td>\n",
       "      <td>0</td>\n",
       "    </tr>\n",
       "    <tr>\n",
       "      <th>196</th>\n",
       "      <td>val/images/val_7241.JPEG</td>\n",
       "      <td>val/images/val_6849.JPEG</td>\n",
       "      <td>0</td>\n",
       "    </tr>\n",
       "    <tr>\n",
       "      <th>197</th>\n",
       "      <td>val/images/val_3571.JPEG</td>\n",
       "      <td>val/images/val_2398.JPEG</td>\n",
       "      <td>0</td>\n",
       "    </tr>\n",
       "    <tr>\n",
       "      <th>198</th>\n",
       "      <td>val/images/val_2193.JPEG</td>\n",
       "      <td>val/images/val_2079.JPEG</td>\n",
       "      <td>0</td>\n",
       "    </tr>\n",
       "    <tr>\n",
       "      <th>199</th>\n",
       "      <td>val/images/val_3171.JPEG</td>\n",
       "      <td>val/images/val_1420.JPEG</td>\n",
       "      <td>0</td>\n",
       "    </tr>\n",
       "  </tbody>\n",
       "</table>\n",
       "<p>200 rows × 3 columns</p>\n",
       "</div>"
      ],
      "text/plain": [
       "                       image1                    image2  label\n",
       "0    val/images/val_8250.JPEG  val/images/val_2423.JPEG      0\n",
       "1    val/images/val_7970.JPEG   val/images/val_545.JPEG      0\n",
       "2    val/images/val_6757.JPEG  val/images/val_1603.JPEG      0\n",
       "3    val/images/val_2307.JPEG  val/images/val_6178.JPEG      0\n",
       "4    val/images/val_8743.JPEG  val/images/val_4533.JPEG      0\n",
       "..                        ...                       ...    ...\n",
       "195  val/images/val_1613.JPEG  val/images/val_6167.JPEG      0\n",
       "196  val/images/val_7241.JPEG  val/images/val_6849.JPEG      0\n",
       "197  val/images/val_3571.JPEG  val/images/val_2398.JPEG      0\n",
       "198  val/images/val_2193.JPEG  val/images/val_2079.JPEG      0\n",
       "199  val/images/val_3171.JPEG  val/images/val_1420.JPEG      0\n",
       "\n",
       "[200 rows x 3 columns]"
      ]
     },
     "execution_count": 33,
     "metadata": {},
     "output_type": "execute_result"
    }
   ],
   "source": [
    "seen_unseen_test_df = pd.DataFrame(seen_unseen_test_data)\n",
    "seen_unseen_test_df"
   ]
  },
  {
   "cell_type": "code",
   "execution_count": 34,
   "metadata": {},
   "outputs": [],
   "source": [
    "seen_unseen_test_df.to_csv('seen_unseen_test.csv', index=False)"
   ]
  }
 ],
 "metadata": {
  "kernelspec": {
   "display_name": "DLenv",
   "language": "python",
   "name": "python3"
  },
  "language_info": {
   "codemirror_mode": {
    "name": "ipython",
    "version": 3
   },
   "file_extension": ".py",
   "mimetype": "text/x-python",
   "name": "python",
   "nbconvert_exporter": "python",
   "pygments_lexer": "ipython3",
   "version": "3.8.13 (default, Mar 28 2022, 06:59:08) [MSC v.1916 64 bit (AMD64)]"
  },
  "orig_nbformat": 4,
  "vscode": {
   "interpreter": {
    "hash": "6e27fdd685364325128668c401744e268eed4a605f1a6553ece99da66ad5edbc"
   }
  }
 },
 "nbformat": 4,
 "nbformat_minor": 2
}
