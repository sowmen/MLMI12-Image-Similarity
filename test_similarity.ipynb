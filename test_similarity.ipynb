{
 "cells": [
  {
   "cell_type": "code",
   "execution_count": 1,
   "metadata": {},
   "outputs": [],
   "source": [
    "%load_ext autoreload\n",
    "%autoreload 2"
   ]
  },
  {
   "cell_type": "code",
   "execution_count": 9,
   "metadata": {},
   "outputs": [],
   "source": [
    "import numpy as np\n",
    "import cv2\n",
    "import matplotlib.pyplot as plt\n",
    "import pandas as pd\n",
    "import timm\n",
    "import torch\n",
    "import os\n",
    "from tqdm import tqdm\n",
    "\n",
    "from torchvision import transforms\n",
    "from utils import label_to_id, AverageMeter\n",
    "from sklearn.metrics.pairwise import cosine_similarity\n",
    "from torchmetrics import Accuracy"
   ]
  },
  {
   "cell_type": "code",
   "execution_count": 3,
   "metadata": {},
   "outputs": [],
   "source": [
    "NUM_CLASSES = 100\n",
    "device =  'cuda'\n",
    "DATA_ROOT = \"tiny-imagenet-200\""
   ]
  },
  {
   "cell_type": "code",
   "execution_count": 4,
   "metadata": {},
   "outputs": [],
   "source": [
    "model = timm.create_model('tf_efficientnet_b4_ns', pretrained=True, num_classes=NUM_CLASSES)\n",
    "model.to(device)\n",
    "model.load_state_dict(torch.load('weights/MultiClassEffNetB4_[19_12_13_27_44].h5'))\n",
    "model.eval();"
   ]
  },
  {
   "cell_type": "code",
   "execution_count": 5,
   "metadata": {},
   "outputs": [],
   "source": [
    "transform = transforms.Compose([\n",
    "            transforms.ToPILImage(),\n",
    "            transforms.Resize((128, 128)),\n",
    "            transforms.ToTensor(),\n",
    "            transforms.Normalize((0.485, 0.456, 0.406), (0.229, 0.224, 0.225)),\n",
    "        ])"
   ]
  },
  {
   "cell_type": "code",
   "execution_count": 16,
   "metadata": {},
   "outputs": [],
   "source": [
    "from sklearn.metrics import accuracy_score, top_k_accuracy_score\n",
    "\n",
    "def test(path): \n",
    "    print(\"Testing ---- \", path)\n",
    "\n",
    "    seen_seen_df = pd.read_csv(path).values\n",
    "\n",
    "    pred_outs = []\n",
    "    similarity_outs = []\n",
    "    labels = []\n",
    "    for row in tqdm(seen_seen_df):\n",
    "\n",
    "        im1 = cv2.imread(os.path.join(DATA_ROOT, row[0]), cv2.IMREAD_COLOR)\n",
    "        im1 = cv2.cvtColor(im1, cv2.COLOR_BGR2RGB)\n",
    "        tensor1 = transform(im1).unsqueeze(0).to(device)\n",
    "\n",
    "        feature1 = model.forward_features(tensor1).cpu().squeeze()\n",
    "        # feature1 = torch.flatten(feature1).squeeze()\n",
    "        feature1 = torch.nn.functional.avg_pool2d(feature1, 4).squeeze()\n",
    "\n",
    "        out1 = model(tensor1).cpu().squeeze().argmax()\n",
    "\n",
    "        ########################################\n",
    "\n",
    "        im2 = cv2.imread(os.path.join(DATA_ROOT, row[1]), cv2.IMREAD_COLOR)\n",
    "        im2 = cv2.cvtColor(im2, cv2.COLOR_BGR2RGB)\n",
    "        tensor2 = transform(im2).unsqueeze(0).to(device)\n",
    "\n",
    "        feature2 = model.forward_features(tensor2).cpu().squeeze()\n",
    "        # feature2 = torch.flatten(feature2).squeeze()\n",
    "        feature2 = torch.nn.functional.avg_pool2d(feature2, 4).squeeze()\n",
    "\n",
    "        out2 = model(tensor2).cpu().squeeze().argmax()\n",
    "\n",
    "        #########################################\n",
    "\n",
    "        pred_outs.append(1 if out1.item() == out2.item() else 0)\n",
    "        labels.append(row[2])\n",
    "\n",
    "        csim = torch.nn.functional.cosine_similarity(feature1, feature2, dim=0).item()\n",
    "        similarity_outs.append(1 if csim > 0.1 else 0)\n",
    "\n",
    "    \n",
    "    print(\"Multiclass Accuracy: \", accuracy_score(labels, pred_outs))\n",
    "    print(\"Cosine Similarity (0.1) Accuracy: \", accuracy_score(labels, similarity_outs))"
   ]
  },
  {
   "cell_type": "code",
   "execution_count": 17,
   "metadata": {},
   "outputs": [
    {
     "name": "stdout",
     "output_type": "stream",
     "text": [
      "Testing ----  seen_unseen_test.csv\n"
     ]
    },
    {
     "name": "stderr",
     "output_type": "stream",
     "text": [
      "100%|██████████| 200/200 [00:35<00:00,  5.70it/s]\n"
     ]
    },
    {
     "name": "stdout",
     "output_type": "stream",
     "text": [
      "Multiclass Accuracy:  0.98\n",
      "Cosine Similarity (0.1) Accuracy:  0.72\n",
      "Testing ----  unseen_unseen_test.csv\n"
     ]
    },
    {
     "name": "stderr",
     "output_type": "stream",
     "text": [
      "100%|██████████| 200/200 [00:35<00:00,  5.69it/s]"
     ]
    },
    {
     "name": "stdout",
     "output_type": "stream",
     "text": [
      "Multiclass Accuracy:  0.63\n",
      "Cosine Similarity (0.1) Accuracy:  0.75\n"
     ]
    },
    {
     "name": "stderr",
     "output_type": "stream",
     "text": [
      "\n"
     ]
    }
   ],
   "source": [
    "test('seen_seen_test.csv')\n",
    "test('seen_unseen_test.csv')\n",
    "test('unseen_unseen_test.csv')"
   ]
  }
 ],
 "metadata": {
  "kernelspec": {
   "display_name": "DLenv",
   "language": "python",
   "name": "python3"
  },
  "language_info": {
   "codemirror_mode": {
    "name": "ipython",
    "version": 3
   },
   "file_extension": ".py",
   "mimetype": "text/x-python",
   "name": "python",
   "nbconvert_exporter": "python",
   "pygments_lexer": "ipython3",
   "version": "3.8.13"
  },
  "orig_nbformat": 4,
  "vscode": {
   "interpreter": {
    "hash": "6e27fdd685364325128668c401744e268eed4a605f1a6553ece99da66ad5edbc"
   }
  }
 },
 "nbformat": 4,
 "nbformat_minor": 2
}
